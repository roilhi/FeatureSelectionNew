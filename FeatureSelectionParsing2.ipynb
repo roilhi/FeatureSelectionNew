{
 "cells": [
  {
   "cell_type": "code",
   "execution_count": 1,
   "metadata": {},
   "outputs": [],
   "source": [
    "import os, sys\n",
    "from os import listdir, path\n",
    "import pandas as pd\n",
    "from pandas import DataFrame\n",
    "import re\n",
    "import matplotlib\n",
    "import matplotlib.pyplot as plt\n",
    "#import matplotlib.patches as mpatches\n",
    "#from mpl_toolkits import axes_grid1\n",
    "import numpy as np\n",
    "import itertools "
   ]
  },
  {
   "cell_type": "code",
   "execution_count": 2,
   "metadata": {},
   "outputs": [],
   "source": [
    "def SelectFeaturesFromWeka_txt(input_txt):\n",
    "    listofAt=[]\n",
    "    allElementsLine = []\n",
    "    counter = 0\n",
    "    with open(input_txt) as f:\n",
    "        for line in f:\n",
    "            line = line.strip()\n",
    "            if line=='':\n",
    "                continue\n",
    "            # If line of the .txt file starts with \"Selected Attributes, CFS Case\"\n",
    "            if line.startswith('Selected attributes:'):\n",
    "                #Select the line in the .txt file which contains the indices of selected features if CFS\n",
    "                allElementsLine = line\n",
    "                # Splitting elements of selected line in spaces, so we can obtain just the indices\n",
    "                listofAt = allElementsLine.split()[2]  \n",
    "                # Removing the quotes from the selected string (line)\n",
    "                listofAt=listofAt.replace('\"', '')\n",
    "                # Splitting elements by the comma\n",
    "                listofAt=listofAt.split(\",\")\n",
    "                # Changing elements as integer numbers\n",
    "                listofAt = list(map(int, listofAt))\n",
    "            # Else if the .txt corresponds to an information gain feature selector\n",
    "            if line.startswith('0 '):\n",
    "                # Counting the features (lines) with zero information\n",
    "                counter = counter+1  \n",
    "                if line.startswith('Selected attributes:'):\n",
    "                    allElementsLine = line\n",
    "                    listofAt = allElementsLine.split()[2]  \n",
    "                    # Removing the quotes from the selected string (line)\n",
    "                    listofAt=listofAt.replace('\"', '')\n",
    "                    # Splitting elements by the comma\n",
    "                    listofAt=listofAt.split(\",\")\n",
    "                    # Changing elements as integer numbers\n",
    "                    listofAt = list(map(int, listofAt))\n",
    "        listofAt = [x - 1 for x in listofAt]\n",
    "        #listofAt = np.transpose(listofAt)\n",
    "    return listofAt, counter\n",
    "                "
   ]
  },
  {
   "cell_type": "markdown",
   "metadata": {},
   "source": [
    "# Implementing function of txt parsing to get the Features Selection Step"
   ]
  },
  {
   "cell_type": "code",
   "execution_count": 3,
   "metadata": {},
   "outputs": [],
   "source": [
    "# Reading .txt files from weka resulting buffers and taking the lists of selected features (indices)\n",
    "fileCFS_A = r'/Users/roilhiibarra/Documents/AllCSVPCGFeatures/CFSResultsSetA.txt'\n",
    "Features_CFSA = SelectFeaturesFromWeka_txt(fileCFS_A)\n",
    "Features_CFSA = Features_CFSA[0]\n",
    "# * * * * * * * * * * * * * * * * * * * * * * * * * * * * * * * * * * * * * * * \n",
    "fileCFS_B = r'/Users/roilhiibarra/Documents/AllCSVPCGFeatures/CFSResultsSetB.txt'\n",
    "Features_CFSB = SelectFeaturesFromWeka_txt(fileCFS_B)\n",
    "Features_CFSB = Features_CFSB[0]\n",
    "# * * * * * * * * * * * * * * * * * * * * * * * * * * * * * * * * * * * * * * * \n",
    "fileIG_A = r'/Users/roilhiibarra/Documents/AllCSVPCGFeatures/IGResultsSetA.txt'\n",
    "Features_IGA, counter = SelectFeaturesFromWeka_txt(fileIG_A)\n",
    "Features_IGA = Features_IGA[:len(Features_IGA)-counter]\n",
    "#Features_IGA = np.sort(Features_IGA)\n",
    "# * * * * * * * * * * * * * * * * * * * * * * * * * * * * * * * * * * * * * * * \n",
    "fileIG_B = r'/Users/roilhiibarra/Documents/AllCSVPCGFeatures/IGResultsSetB.txt'\n",
    "Features_IGB, counterB = SelectFeaturesFromWeka_txt(fileIG_B)\n",
    "Features_IGB = Features_IGB[:len(Features_IGB)-counterB]\n",
    "#Features_IGB = np.sort(Features_IGB)"
   ]
  },
  {
   "cell_type": "markdown",
   "metadata": {},
   "source": [
    "# Getting locations of csv files"
   ]
  },
  {
   "cell_type": "code",
   "execution_count": 4,
   "metadata": {},
   "outputs": [],
   "source": [
    "# Reading the csv files of instances and features\n",
    "allFeaturesPath = r'/Users/roilhiibarra/Documents/AllCSVPCGFeatures/'\n",
    "MP = path.join(allFeaturesPath,'MP_PCGFeatures_PerCycle.csv')\n",
    "MP2 = path.join(allFeaturesPath,'MP_LPCFeatures2.csv')"
   ]
  },
  {
   "cell_type": "markdown",
   "metadata": {},
   "source": [
    "# Reading csv files in pandas and converting into dataframes"
   ]
  },
  {
   "cell_type": "code",
   "execution_count": 5,
   "metadata": {},
   "outputs": [],
   "source": [
    "dataset_A = pd.read_csv(MP)\n",
    "dataset_B = pd.read_csv(MP2)\n",
    "XA, yA = dataset_A.iloc[:,:-1],dataset_A.iloc[:,-1]\n",
    "XB, yB = dataset_B.iloc[:,:-1],dataset_B.iloc[:,-1]"
   ]
  },
  {
   "cell_type": "markdown",
   "metadata": {},
   "source": [
    "# Taking the columns of elements according to the selected features"
   ]
  },
  {
   "cell_type": "code",
   "execution_count": 6,
   "metadata": {},
   "outputs": [],
   "source": [
    "XA_ReducedCFS = XA.iloc[:,Features_CFSA]\n",
    "XA_ReducedIG = XA.iloc[:,Features_IGA]\n",
    "XB_ReducedCFS = XB.iloc[:,Features_CFSB]\n",
    "XB_ReducedIG = XB.iloc[:,Features_IGB]"
   ]
  },
  {
   "cell_type": "code",
   "execution_count": null,
   "metadata": {},
   "outputs": [],
   "source": []
  }
 ],
 "metadata": {
  "kernelspec": {
   "display_name": "Python 3",
   "language": "python",
   "name": "python3"
  },
  "language_info": {
   "codemirror_mode": {
    "name": "ipython",
    "version": 3
   },
   "file_extension": ".py",
   "mimetype": "text/x-python",
   "name": "python",
   "nbconvert_exporter": "python",
   "pygments_lexer": "ipython3",
   "version": "3.6.6"
  }
 },
 "nbformat": 4,
 "nbformat_minor": 2
}
